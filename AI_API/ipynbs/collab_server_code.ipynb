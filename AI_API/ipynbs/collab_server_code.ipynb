{
  "cells": [
    {
      "cell_type": "code",
      "execution_count": 1,
      "metadata": {
        "colab": {
          "base_uri": "https://localhost:8080/"
        },
        "id": "nh_88oj8Pps6",
        "outputId": "0843dc27-96ab-4037-d1e1-f1ffa01e7d83"
      },
      "outputs": [
        {
          "name": "stdout",
          "output_type": "stream",
          "text": [
            "Cloning into 'Image-Generation-Diffusion-Proj'...\n",
            "remote: Enumerating objects: 266, done.\u001b[K\n",
            "remote: Counting objects: 100% (266/266), done.\u001b[K\n",
            "remote: Compressing objects: 100% (179/179), done.\u001b[K\n",
            "remote: Total 266 (delta 64), reused 250 (delta 52), pack-reused 0 (from 0)\u001b[K\n",
            "Receiving objects: 100% (266/266), 307.95 KiB | 12.32 MiB/s, done.\n",
            "Resolving deltas: 100% (64/64), done.\n"
          ]
        }
      ],
      "source": [
        "!git clone https://github.com/NeelDevenShah/Image-Generation-Diffusion-Proj.git"
      ]
    },
    {
      "cell_type": "code",
      "execution_count": 2,
      "metadata": {
        "colab": {
          "base_uri": "https://localhost:8080/"
        },
        "id": "L7upXuzZSmPI",
        "outputId": "b80d54ad-fc32-4bfb-ab3e-6463d574f537"
      },
      "outputs": [
        {
          "name": "stdout",
          "output_type": "stream",
          "text": [
            "Requirement already satisfied: torch in /usr/local/lib/python3.10/dist-packages (from -r /content/Image-Generation-Diffusion-Proj/AI_API/requriements.txt (line 1)) (2.4.0+cu121)\n",
            "Requirement already satisfied: numpy in /usr/local/lib/python3.10/dist-packages (from -r /content/Image-Generation-Diffusion-Proj/AI_API/requriements.txt (line 2)) (1.26.4)\n",
            "Collecting diffusers (from -r /content/Image-Generation-Diffusion-Proj/AI_API/requriements.txt (line 3))\n",
            "  Downloading diffusers-0.30.2-py3-none-any.whl.metadata (18 kB)\n",
            "Requirement already satisfied: transformers in /usr/local/lib/python3.10/dist-packages (from -r /content/Image-Generation-Diffusion-Proj/AI_API/requriements.txt (line 4)) (4.44.2)\n",
            "Requirement already satisfied: pillow in /usr/local/lib/python3.10/dist-packages (from -r /content/Image-Generation-Diffusion-Proj/AI_API/requriements.txt (line 5)) (9.4.0)\n",
            "Collecting fastapi (from -r /content/Image-Generation-Diffusion-Proj/AI_API/requriements.txt (line 6))\n",
            "  Downloading fastapi-0.114.0-py3-none-any.whl.metadata (27 kB)\n",
            "Collecting uvicorn (from -r /content/Image-Generation-Diffusion-Proj/AI_API/requriements.txt (line 7))\n",
            "  Downloading uvicorn-0.30.6-py3-none-any.whl.metadata (6.6 kB)\n",
            "Requirement already satisfied: pydantic in /usr/local/lib/python3.10/dist-packages (from -r /content/Image-Generation-Diffusion-Proj/AI_API/requriements.txt (line 8)) (2.8.2)\n",
            "Collecting peft (from -r /content/Image-Generation-Diffusion-Proj/AI_API/requriements.txt (line 9))\n",
            "  Downloading peft-0.12.0-py3-none-any.whl.metadata (13 kB)\n",
            "Collecting pyngrok (from -r /content/Image-Generation-Diffusion-Proj/AI_API/requriements.txt (line 10))\n",
            "  Downloading pyngrok-7.2.0-py3-none-any.whl.metadata (7.4 kB)\n",
            "Collecting azure-storage-blob (from -r /content/Image-Generation-Diffusion-Proj/AI_API/requriements.txt (line 11))\n",
            "  Downloading azure_storage_blob-12.22.0-py3-none-any.whl.metadata (26 kB)\n",
            "Requirement already satisfied: filelock in /usr/local/lib/python3.10/dist-packages (from torch->-r /content/Image-Generation-Diffusion-Proj/AI_API/requriements.txt (line 1)) (3.15.4)\n",
            "Requirement already satisfied: typing-extensions>=4.8.0 in /usr/local/lib/python3.10/dist-packages (from torch->-r /content/Image-Generation-Diffusion-Proj/AI_API/requriements.txt (line 1)) (4.12.2)\n",
            "Requirement already satisfied: sympy in /usr/local/lib/python3.10/dist-packages (from torch->-r /content/Image-Generation-Diffusion-Proj/AI_API/requriements.txt (line 1)) (1.13.2)\n",
            "Requirement already satisfied: networkx in /usr/local/lib/python3.10/dist-packages (from torch->-r /content/Image-Generation-Diffusion-Proj/AI_API/requriements.txt (line 1)) (3.3)\n",
            "Requirement already satisfied: jinja2 in /usr/local/lib/python3.10/dist-packages (from torch->-r /content/Image-Generation-Diffusion-Proj/AI_API/requriements.txt (line 1)) (3.1.4)\n",
            "Requirement already satisfied: fsspec in /usr/local/lib/python3.10/dist-packages (from torch->-r /content/Image-Generation-Diffusion-Proj/AI_API/requriements.txt (line 1)) (2024.6.1)\n",
            "Requirement already satisfied: importlib-metadata in /usr/local/lib/python3.10/dist-packages (from diffusers->-r /content/Image-Generation-Diffusion-Proj/AI_API/requriements.txt (line 3)) (8.4.0)\n",
            "Requirement already satisfied: huggingface-hub>=0.23.2 in /usr/local/lib/python3.10/dist-packages (from diffusers->-r /content/Image-Generation-Diffusion-Proj/AI_API/requriements.txt (line 3)) (0.24.6)\n",
            "Requirement already satisfied: regex!=2019.12.17 in /usr/local/lib/python3.10/dist-packages (from diffusers->-r /content/Image-Generation-Diffusion-Proj/AI_API/requriements.txt (line 3)) (2024.5.15)\n",
            "Requirement already satisfied: requests in /usr/local/lib/python3.10/dist-packages (from diffusers->-r /content/Image-Generation-Diffusion-Proj/AI_API/requriements.txt (line 3)) (2.32.3)\n",
            "Requirement already satisfied: safetensors>=0.3.1 in /usr/local/lib/python3.10/dist-packages (from diffusers->-r /content/Image-Generation-Diffusion-Proj/AI_API/requriements.txt (line 3)) (0.4.4)\n",
            "Requirement already satisfied: packaging>=20.0 in /usr/local/lib/python3.10/dist-packages (from transformers->-r /content/Image-Generation-Diffusion-Proj/AI_API/requriements.txt (line 4)) (24.1)\n",
            "Requirement already satisfied: pyyaml>=5.1 in /usr/local/lib/python3.10/dist-packages (from transformers->-r /content/Image-Generation-Diffusion-Proj/AI_API/requriements.txt (line 4)) (6.0.2)\n",
            "Requirement already satisfied: tokenizers<0.20,>=0.19 in /usr/local/lib/python3.10/dist-packages (from transformers->-r /content/Image-Generation-Diffusion-Proj/AI_API/requriements.txt (line 4)) (0.19.1)\n",
            "Requirement already satisfied: tqdm>=4.27 in /usr/local/lib/python3.10/dist-packages (from transformers->-r /content/Image-Generation-Diffusion-Proj/AI_API/requriements.txt (line 4)) (4.66.5)\n",
            "Collecting starlette<0.39.0,>=0.37.2 (from fastapi->-r /content/Image-Generation-Diffusion-Proj/AI_API/requriements.txt (line 6))\n",
            "  Downloading starlette-0.38.4-py3-none-any.whl.metadata (6.0 kB)\n",
            "Requirement already satisfied: click>=7.0 in /usr/local/lib/python3.10/dist-packages (from uvicorn->-r /content/Image-Generation-Diffusion-Proj/AI_API/requriements.txt (line 7)) (8.1.7)\n",
            "Collecting h11>=0.8 (from uvicorn->-r /content/Image-Generation-Diffusion-Proj/AI_API/requriements.txt (line 7))\n",
            "  Downloading h11-0.14.0-py3-none-any.whl.metadata (8.2 kB)\n",
            "Requirement already satisfied: annotated-types>=0.4.0 in /usr/local/lib/python3.10/dist-packages (from pydantic->-r /content/Image-Generation-Diffusion-Proj/AI_API/requriements.txt (line 8)) (0.7.0)\n",
            "Requirement already satisfied: pydantic-core==2.20.1 in /usr/local/lib/python3.10/dist-packages (from pydantic->-r /content/Image-Generation-Diffusion-Proj/AI_API/requriements.txt (line 8)) (2.20.1)\n",
            "Requirement already satisfied: psutil in /usr/local/lib/python3.10/dist-packages (from peft->-r /content/Image-Generation-Diffusion-Proj/AI_API/requriements.txt (line 9)) (5.9.5)\n",
            "Requirement already satisfied: accelerate>=0.21.0 in /usr/local/lib/python3.10/dist-packages (from peft->-r /content/Image-Generation-Diffusion-Proj/AI_API/requriements.txt (line 9)) (0.33.0)\n",
            "Collecting azure-core>=1.28.0 (from azure-storage-blob->-r /content/Image-Generation-Diffusion-Proj/AI_API/requriements.txt (line 11))\n",
            "  Downloading azure_core-1.30.2-py3-none-any.whl.metadata (37 kB)\n",
            "Requirement already satisfied: cryptography>=2.1.4 in /usr/local/lib/python3.10/dist-packages (from azure-storage-blob->-r /content/Image-Generation-Diffusion-Proj/AI_API/requriements.txt (line 11)) (43.0.0)\n",
            "Collecting isodate>=0.6.1 (from azure-storage-blob->-r /content/Image-Generation-Diffusion-Proj/AI_API/requriements.txt (line 11))\n",
            "  Downloading isodate-0.6.1-py2.py3-none-any.whl.metadata (9.6 kB)\n",
            "Requirement already satisfied: six>=1.11.0 in /usr/local/lib/python3.10/dist-packages (from azure-core>=1.28.0->azure-storage-blob->-r /content/Image-Generation-Diffusion-Proj/AI_API/requriements.txt (line 11)) (1.16.0)\n",
            "Requirement already satisfied: cffi>=1.12 in /usr/local/lib/python3.10/dist-packages (from cryptography>=2.1.4->azure-storage-blob->-r /content/Image-Generation-Diffusion-Proj/AI_API/requriements.txt (line 11)) (1.17.0)\n",
            "Requirement already satisfied: charset-normalizer<4,>=2 in /usr/local/lib/python3.10/dist-packages (from requests->diffusers->-r /content/Image-Generation-Diffusion-Proj/AI_API/requriements.txt (line 3)) (3.3.2)\n",
            "Requirement already satisfied: idna<4,>=2.5 in /usr/local/lib/python3.10/dist-packages (from requests->diffusers->-r /content/Image-Generation-Diffusion-Proj/AI_API/requriements.txt (line 3)) (3.8)\n",
            "Requirement already satisfied: urllib3<3,>=1.21.1 in /usr/local/lib/python3.10/dist-packages (from requests->diffusers->-r /content/Image-Generation-Diffusion-Proj/AI_API/requriements.txt (line 3)) (2.0.7)\n",
            "Requirement already satisfied: certifi>=2017.4.17 in /usr/local/lib/python3.10/dist-packages (from requests->diffusers->-r /content/Image-Generation-Diffusion-Proj/AI_API/requriements.txt (line 3)) (2024.8.30)\n",
            "Requirement already satisfied: anyio<5,>=3.4.0 in /usr/local/lib/python3.10/dist-packages (from starlette<0.39.0,>=0.37.2->fastapi->-r /content/Image-Generation-Diffusion-Proj/AI_API/requriements.txt (line 6)) (3.7.1)\n",
            "Requirement already satisfied: zipp>=0.5 in /usr/local/lib/python3.10/dist-packages (from importlib-metadata->diffusers->-r /content/Image-Generation-Diffusion-Proj/AI_API/requriements.txt (line 3)) (3.20.1)\n",
            "Requirement already satisfied: MarkupSafe>=2.0 in /usr/local/lib/python3.10/dist-packages (from jinja2->torch->-r /content/Image-Generation-Diffusion-Proj/AI_API/requriements.txt (line 1)) (2.1.5)\n",
            "Requirement already satisfied: mpmath<1.4,>=1.1.0 in /usr/local/lib/python3.10/dist-packages (from sympy->torch->-r /content/Image-Generation-Diffusion-Proj/AI_API/requriements.txt (line 1)) (1.3.0)\n",
            "Requirement already satisfied: sniffio>=1.1 in /usr/local/lib/python3.10/dist-packages (from anyio<5,>=3.4.0->starlette<0.39.0,>=0.37.2->fastapi->-r /content/Image-Generation-Diffusion-Proj/AI_API/requriements.txt (line 6)) (1.3.1)\n",
            "Requirement already satisfied: exceptiongroup in /usr/local/lib/python3.10/dist-packages (from anyio<5,>=3.4.0->starlette<0.39.0,>=0.37.2->fastapi->-r /content/Image-Generation-Diffusion-Proj/AI_API/requriements.txt (line 6)) (1.2.2)\n",
            "Requirement already satisfied: pycparser in /usr/local/lib/python3.10/dist-packages (from cffi>=1.12->cryptography>=2.1.4->azure-storage-blob->-r /content/Image-Generation-Diffusion-Proj/AI_API/requriements.txt (line 11)) (2.22)\n",
            "Downloading diffusers-0.30.2-py3-none-any.whl (2.6 MB)\n",
            "\u001b[2K   \u001b[90m━━━━━━━━━━━━━━━━━━━━━━━━━━━━━━━━━━━━━━━━\u001b[0m \u001b[32m2.6/2.6 MB\u001b[0m \u001b[31m41.7 MB/s\u001b[0m eta \u001b[36m0:00:00\u001b[0m\n",
            "\u001b[?25hDownloading fastapi-0.114.0-py3-none-any.whl (94 kB)\n",
            "\u001b[2K   \u001b[90m━━━━━━━━━━━━━━━━━━━━━━━━━━━━━━━━━━━━━━━━\u001b[0m \u001b[32m94.0/94.0 kB\u001b[0m \u001b[31m8.3 MB/s\u001b[0m eta \u001b[36m0:00:00\u001b[0m\n",
            "\u001b[?25hDownloading uvicorn-0.30.6-py3-none-any.whl (62 kB)\n",
            "\u001b[2K   \u001b[90m━━━━━━━━━━━━━━━━━━━━━━━━━━━━━━━━━━━━━━━━\u001b[0m \u001b[32m62.8/62.8 kB\u001b[0m \u001b[31m5.7 MB/s\u001b[0m eta \u001b[36m0:00:00\u001b[0m\n",
            "\u001b[?25hDownloading peft-0.12.0-py3-none-any.whl (296 kB)\n",
            "\u001b[2K   \u001b[90m━━━━━━━━━━━━━━━━━━━━━━━━━━━━━━━━━━━━━━━━\u001b[0m \u001b[32m296.4/296.4 kB\u001b[0m \u001b[31m25.2 MB/s\u001b[0m eta \u001b[36m0:00:00\u001b[0m\n",
            "\u001b[?25hDownloading pyngrok-7.2.0-py3-none-any.whl (22 kB)\n",
            "Downloading azure_storage_blob-12.22.0-py3-none-any.whl (404 kB)\n",
            "\u001b[2K   \u001b[90m━━━━━━━━━━━━━━━━━━━━━━━━━━━━━━━━━━━━━━━━\u001b[0m \u001b[32m404.9/404.9 kB\u001b[0m \u001b[31m33.1 MB/s\u001b[0m eta \u001b[36m0:00:00\u001b[0m\n",
            "\u001b[?25hDownloading azure_core-1.30.2-py3-none-any.whl (194 kB)\n",
            "\u001b[2K   \u001b[90m━━━━━━━━━━━━━━━━━━━━━━━━━━━━━━━━━━━━━━━━\u001b[0m \u001b[32m194.3/194.3 kB\u001b[0m \u001b[31m16.1 MB/s\u001b[0m eta \u001b[36m0:00:00\u001b[0m\n",
            "\u001b[?25hDownloading h11-0.14.0-py3-none-any.whl (58 kB)\n",
            "\u001b[2K   \u001b[90m━━━━━━━━━━━━━━━━━━━━━━━━━━━━━━━━━━━━━━━━\u001b[0m \u001b[32m58.3/58.3 kB\u001b[0m \u001b[31m4.8 MB/s\u001b[0m eta \u001b[36m0:00:00\u001b[0m\n",
            "\u001b[?25hDownloading isodate-0.6.1-py2.py3-none-any.whl (41 kB)\n",
            "\u001b[2K   \u001b[90m━━━━━━━━━━━━━━━━━━━━━━━━━━━━━━━━━━━━━━━━\u001b[0m \u001b[32m41.7/41.7 kB\u001b[0m \u001b[31m3.1 MB/s\u001b[0m eta \u001b[36m0:00:00\u001b[0m\n",
            "\u001b[?25hDownloading starlette-0.38.4-py3-none-any.whl (71 kB)\n",
            "\u001b[2K   \u001b[90m━━━━━━━━━━━━━━━━━━━━━━━━━━━━━━━━━━━━━━━━\u001b[0m \u001b[32m71.4/71.4 kB\u001b[0m \u001b[31m6.2 MB/s\u001b[0m eta \u001b[36m0:00:00\u001b[0m\n",
            "\u001b[?25hInstalling collected packages: pyngrok, isodate, h11, uvicorn, starlette, azure-core, fastapi, diffusers, azure-storage-blob, peft\n",
            "Successfully installed azure-core-1.30.2 azure-storage-blob-12.22.0 diffusers-0.30.2 fastapi-0.114.0 h11-0.14.0 isodate-0.6.1 peft-0.12.0 pyngrok-7.2.0 starlette-0.38.4 uvicorn-0.30.6\n"
          ]
        }
      ],
      "source": [
        "!pip install -r /content/Image-Generation-Diffusion-Proj/AI_API/requriements.txt"
      ]
    },
    {
      "cell_type": "code",
      "execution_count": 3,
      "metadata": {
        "colab": {
          "base_uri": "https://localhost:8080/"
        },
        "id": "YeJEEH3XVjTS",
        "outputId": "dd3e3e72-e79e-4716-ca4e-11941f98ffc4"
      },
      "outputs": [
        {
          "name": "stdout",
          "output_type": "stream",
          "text": [
            "Authtoken saved to configuration file: /root/.config/ngrok/ngrok.yml\n"
          ]
        }
      ],
      "source": [
        "!ngrok config add-authtoken <TODO: your token here>"
      ]
    },
    {
      "cell_type": "code",
      "execution_count": 4,
      "metadata": {
        "colab": {
          "base_uri": "https://localhost:8080/"
        },
        "id": "TVbpk8d6ppdw",
        "outputId": "0db822a8-15a8-4899-9c8f-235b22962f72"
      },
      "outputs": [
        {
          "name": "stdout",
          "output_type": "stream",
          "text": [
            "\r0% [Working]\r            \rGet:1 https://cloud.r-project.org/bin/linux/ubuntu jammy-cran40/ InRelease [3,626 B]\n",
            "\r0% [Connecting to archive.ubuntu.com (91.189.91.81)] [Connecting to security.ub\r0% [Connecting to archive.ubuntu.com (91.189.91.81)] [Connecting to security.ub\r                                                                               \rGet:2 https://developer.download.nvidia.com/compute/cuda/repos/ubuntu2204/x86_64  InRelease [1,581 B]\n",
            "\r0% [Waiting for headers] [Connecting to security.ubuntu.com (185.125.190.83)] [\r0% [Waiting for headers] [Connecting to security.ubuntu.com (185.125.190.83)] [\r                                                                               \rHit:3 http://archive.ubuntu.com/ubuntu jammy InRelease\n",
            "\r0% [Waiting for headers] [Connecting to security.ubuntu.com (185.125.190.83)] [\r                                                                               \rGet:4 http://archive.ubuntu.com/ubuntu jammy-updates InRelease [128 kB]\n",
            "Get:5 http://security.ubuntu.com/ubuntu jammy-security InRelease [129 kB]\n",
            "Get:6 https://developer.download.nvidia.com/compute/cuda/repos/ubuntu2204/x86_64  Packages [966 kB]\n",
            "Ign:7 https://r2u.stat.illinois.edu/ubuntu jammy InRelease\n",
            "Get:8 https://r2u.stat.illinois.edu/ubuntu jammy Release [5,713 B]\n",
            "Get:9 https://r2u.stat.illinois.edu/ubuntu jammy Release.gpg [793 B]\n",
            "Hit:10 http://archive.ubuntu.com/ubuntu jammy-backports InRelease\n",
            "Hit:11 https://ppa.launchpadcontent.net/deadsnakes/ppa/ubuntu jammy InRelease\n",
            "Get:12 http://archive.ubuntu.com/ubuntu jammy-updates/main amd64 Packages [2,499 kB]\n",
            "Hit:13 https://ppa.launchpadcontent.net/graphics-drivers/ppa/ubuntu jammy InRelease\n",
            "Hit:14 https://ppa.launchpadcontent.net/ubuntugis/ppa/ubuntu jammy InRelease\n",
            "Get:15 https://r2u.stat.illinois.edu/ubuntu jammy/main amd64 Packages [2,569 kB]\n",
            "Get:16 https://r2u.stat.illinois.edu/ubuntu jammy/main all Packages [8,288 kB]\n",
            "Fetched 14.6 MB in 2s (7,297 kB/s)\n",
            "Reading package lists... Done\n",
            "W: Skipping acquire of configured file 'main/source/Sources' as repository 'https://r2u.stat.illinois.edu/ubuntu jammy InRelease' does not seem to provide it (sources.list entry misspelt?)\n",
            "Reading package lists... Done\n",
            "Building dependency tree... Done\n",
            "Reading state information... Done\n",
            "lsb-release is already the newest version (11.1.0ubuntu4).\n",
            "lsb-release set to manually installed.\n",
            "ca-certificates is already the newest version (20230311ubuntu0.22.04.1).\n",
            "curl is already the newest version (7.81.0-1ubuntu1.17).\n",
            "gnupg is already the newest version (2.2.27-3ubuntu2.1).\n",
            "gnupg set to manually installed.\n",
            "The following NEW packages will be installed:\n",
            "  apt-transport-https\n",
            "0 upgraded, 1 newly installed, 0 to remove and 49 not upgraded.\n",
            "Need to get 1,510 B of archives.\n",
            "After this operation, 170 kB of additional disk space will be used.\n",
            "Get:1 http://archive.ubuntu.com/ubuntu jammy-updates/universe amd64 apt-transport-https all 2.4.12 [1,510 B]\n",
            "Fetched 1,510 B in 5s (306 B/s)\n",
            "Selecting previously unselected package apt-transport-https.\n",
            "(Reading database ... 123597 files and directories currently installed.)\n",
            "Preparing to unpack .../apt-transport-https_2.4.12_all.deb ...\n",
            "Unpacking apt-transport-https (2.4.12) ...\n",
            "Setting up apt-transport-https (2.4.12) ...\n",
            "Types: deb\n",
            "URIs: https://packages.microsoft.com/repos/azure-cli/\n",
            "Suites: jammy\n",
            "Components: main\n",
            "Architectures: amd64\n",
            "Signed-by: /etc/apt/keyrings/microsoft.gpg\n",
            "Hit:1 https://cloud.r-project.org/bin/linux/ubuntu jammy-cran40/ InRelease\n",
            "Hit:2 https://developer.download.nvidia.com/compute/cuda/repos/ubuntu2204/x86_64  InRelease\n",
            "Get:3 https://packages.microsoft.com/repos/azure-cli jammy InRelease [3,596 B]\n",
            "Ign:4 https://r2u.stat.illinois.edu/ubuntu jammy InRelease\n",
            "Hit:5 https://r2u.stat.illinois.edu/ubuntu jammy Release\n",
            "Get:6 https://packages.microsoft.com/repos/azure-cli jammy/main all Packages [1,099 B]\n",
            "Get:7 https://packages.microsoft.com/repos/azure-cli jammy/main amd64 Packages [1,804 B]\n",
            "Hit:9 https://ppa.launchpadcontent.net/deadsnakes/ppa/ubuntu jammy InRelease\n",
            "Hit:10 https://ppa.launchpadcontent.net/graphics-drivers/ppa/ubuntu jammy InRelease\n",
            "Hit:11 https://ppa.launchpadcontent.net/ubuntugis/ppa/ubuntu jammy InRelease\n",
            "Hit:12 http://security.ubuntu.com/ubuntu jammy-security InRelease\n",
            "Hit:13 http://archive.ubuntu.com/ubuntu jammy InRelease\n",
            "Hit:14 http://archive.ubuntu.com/ubuntu jammy-updates InRelease\n",
            "Hit:15 http://archive.ubuntu.com/ubuntu jammy-backports InRelease\n",
            "Fetched 6,499 B in 2s (2,633 B/s)\n",
            "Reading package lists... Done\n",
            "W: Skipping acquire of configured file 'main/source/Sources' as repository 'https://r2u.stat.illinois.edu/ubuntu jammy InRelease' does not seem to provide it (sources.list entry misspelt?)\n",
            "Reading package lists... Done\n",
            "Building dependency tree... Done\n",
            "Reading state information... Done\n",
            "The following NEW packages will be installed:\n",
            "  azure-cli\n",
            "0 upgraded, 1 newly installed, 0 to remove and 49 not upgraded.\n",
            "Need to get 56.4 MB of archives.\n",
            "After this operation, 699 MB of additional disk space will be used.\n",
            "Get:1 https://packages.microsoft.com/repos/azure-cli jammy/main amd64 azure-cli amd64 2.64.0-1~jammy [56.4 MB]\n",
            "Fetched 56.4 MB in 1s (47.2 MB/s)\n",
            "Selecting previously unselected package azure-cli.\n",
            "(Reading database ... 123601 files and directories currently installed.)\n",
            "Preparing to unpack .../azure-cli_2.64.0-1~jammy_amd64.deb ...\n",
            "Unpacking azure-cli (2.64.0-1~jammy) ...\n",
            "Setting up azure-cli (2.64.0-1~jammy) ...\n"
          ]
        }
      ],
      "source": [
        "!curl -sL https://aka.ms/InstallAzureCLIDeb | sudo bash"
      ]
    },
    {
      "cell_type": "markdown",
      "metadata": {
        "id": "OLeuhrCv6pC8"
      },
      "source": [
        "<h1>Make login to the azure, before running further code</h1>"
      ]
    },
    {
      "cell_type": "code",
      "execution_count": 5,
      "metadata": {
        "colab": {
          "base_uri": "https://localhost:8080/"
        },
        "id": "KwmI37Rzpefb",
        "outputId": "7fa08a93-69b1-445e-b06b-e2abdd2415bd"
      },
      "outputs": [
        {
          "name": "stdout",
          "output_type": "stream",
          "text": [
            "\u001b[93mTo sign in, use a web browser to open the page https://microsoft.com/devicelogin and enter the code A3CYLL4AS to authenticate.\u001b[0m\n",
            "\n",
            "Retrieving tenants and subscriptions for the selection...\n",
            "\n",
            "[Tenant and subscription selection]\n",
            "\n",
            "No     Subscription name    Subscription ID                       Tenant\n",
            "-----  -------------------  ------------------------------------  -----------------\n",
            "\u001b[96m[1]\u001b[0m *  \u001b[96mAzure for Students\u001b[0m   \u001b[96mfcc10795-9f88-4fc6-981a-47cb7711f3ec\u001b[0m  \u001b[96mDefault Directory\u001b[0m\n",
            "\n",
            "The default is marked with an *; the default tenant is 'Default Directory' and subscription is 'Azure for Students' (fcc10795-9f88-4fc6-981a-47cb7711f3ec).\n",
            "\n",
            "Select a subscription and tenant (Type a number or Enter for no changes): 1\n",
            "\n",
            "Tenant: Default Directory\n",
            "Subscription: Azure for Students (fcc10795-9f88-4fc6-981a-47cb7711f3ec)\n",
            "\n",
            "[Announcements]\n",
            "With the new Azure CLI login experience, you can select the subscription you want to use more easily. Learn more about it and its configuration at https://go.microsoft.com/fwlink/?linkid=2271236\n",
            "\n",
            "If you encounter any problem, please open an issue at https://aka.ms/azclibug\n",
            "\n",
            "\u001b[93m[Warning] The login output has been updated. Please be aware that it no longer displays the full list of available subscriptions by default.\n",
            "\u001b[0m\n"
          ]
        }
      ],
      "source": [
        "!az login"
      ]
    },
    {
      "cell_type": "markdown",
      "metadata": {
        "id": "pgb2m1ZJ1snd"
      },
      "source": [
        "<h1>Add Connection string for blob to main.py file, before running further code </h1>\n",
        "</b1>\n",
        "<h3>\n",
        "TODO:your connection url for blob </h3>"
      ]
    },
    {
      "cell_type": "code",
      "execution_count": 9,
      "metadata": {
        "colab": {
          "base_uri": "https://localhost:8080/"
        },
        "id": "0nBO8gvgTJlx",
        "outputId": "ed1be7e1-aa2a-4978-b4e4-485b744f2a44"
      },
      "outputs": [
        {
          "name": "stdout",
          "output_type": "stream",
          "text": [
            "2024-09-06 20:09:32.978966: E external/local_xla/xla/stream_executor/cuda/cuda_fft.cc:485] Unable to register cuFFT factory: Attempting to register factory for plugin cuFFT when one has already been registered\n",
            "2024-09-06 20:09:32.998745: E external/local_xla/xla/stream_executor/cuda/cuda_dnn.cc:8454] Unable to register cuDNN factory: Attempting to register factory for plugin cuDNN when one has already been registered\n",
            "2024-09-06 20:09:33.004700: E external/local_xla/xla/stream_executor/cuda/cuda_blas.cc:1452] Unable to register cuBLAS factory: Attempting to register factory for plugin cuBLAS when one has already been registered\n",
            "2024-09-06 20:09:34.311982: W tensorflow/compiler/tf2tensorrt/utils/py_utils.cc:38] TF-TRT Warning: Could not find TensorRT\n",
            "Loading pipeline components...: 100% 7/7 [01:06<00:00,  9.46s/it]\n",
            "Public URL: https://54f6-34-82-100-216.ngrok-free.app\n",
            "\u001b[32mINFO\u001b[0m:     Started server process [\u001b[36m4664\u001b[0m]\n",
            "\u001b[32mINFO\u001b[0m:     Waiting for application startup.\n",
            "\u001b[32mINFO\u001b[0m:     Application startup complete.\n",
            "\u001b[32mINFO\u001b[0m:     Uvicorn running on \u001b[1mhttp://127.0.0.1:8000\u001b[0m (Press CTRL+C to quit)\n",
            "100% 8/8 [00:08<00:00,  1.07s/it]\n",
            "\u001b[32mINFO\u001b[0m:     2409:4080:9d39:6427:93ea:6edc:d699:7d24:0 - \"\u001b[1mPOST /generate-custom-image HTTP/1.1\u001b[0m\" \u001b[32m200 OK\u001b[0m\n",
            "\u001b[32mINFO\u001b[0m:     2409:4080:9d39:6427:93ea:6edc:d699:7d24:0 - \"\u001b[1mGET /generate-parameterized-image HTTP/1.1\u001b[0m\" \u001b[31m405 Method Not Allowed\u001b[0m\n",
            "100% 8/8 [00:07<00:00,  1.07it/s]\n",
            "\u001b[32mINFO\u001b[0m:     2409:4080:9d39:6427:93ea:6edc:d699:7d24:0 - \"\u001b[1mPOST /generate-parameterized-image HTTP/1.1\u001b[0m\" \u001b[32m200 OK\u001b[0m\n",
            "100% 8/8 [00:07<00:00,  1.06it/s]\n",
            "\u001b[32mINFO\u001b[0m:     2409:4080:9d39:6427:93ea:6edc:d699:7d24:0 - \"\u001b[1mPOST /generate-custom-image HTTP/1.1\u001b[0m\" \u001b[32m200 OK\u001b[0m\n",
            "100% 8/8 [00:07<00:00,  1.04it/s]\n",
            "\u001b[32mINFO\u001b[0m:     2409:4080:9d39:6427:93ea:6edc:d699:7d24:0 - \"\u001b[1mPOST /generate-parameterized-image HTTP/1.1\u001b[0m\" \u001b[32m200 OK\u001b[0m\n",
            "\u001b[32mINFO\u001b[0m:     2409:4080:9d39:6427:93ea:6edc:d699:7d24:0 - \"\u001b[1mGET /generate-custom-image HTTP/1.1\u001b[0m\" \u001b[31m405 Method Not Allowed\u001b[0m\n",
            "\u001b[32mINFO\u001b[0m:     2409:4080:9d39:6427:93ea:6edc:d699:7d24:0 - \"\u001b[1mPOST /generate-custom-image HTTP/1.1\u001b[0m\" \u001b[31m422 Unprocessable Entity\u001b[0m\n",
            "100% 8/8 [00:07<00:00,  1.03it/s]\n",
            "\u001b[32mINFO\u001b[0m:     2409:4080:9d39:6427:93ea:6edc:d699:7d24:0 - \"\u001b[1mPOST /generate-custom-image HTTP/1.1\u001b[0m\" \u001b[32m200 OK\u001b[0m\n",
            "\u001b[32mINFO\u001b[0m:     2409:4080:9d39:6427:93ea:6edc:d699:7d24:0 - \"\u001b[1mPOST /get-user-gallery HTTP/1.1\u001b[0m\" \u001b[31m422 Unprocessable Entity\u001b[0m\n",
            "\u001b[32mINFO\u001b[0m:     2409:4080:9d39:6427:93ea:6edc:d699:7d24:0 - \"\u001b[1mPOST /get-user-gallery HTTP/1.1\u001b[0m\" \u001b[31m422 Unprocessable Entity\u001b[0m\n",
            "\u001b[32mINFO\u001b[0m:     2409:4080:9d39:6427:93ea:6edc:d699:7d24:0 - \"\u001b[1mPOST /get-user-gallery?user_id=neeldevenshah@gmail.com HTTP/1.1\u001b[0m\" \u001b[32m200 OK\u001b[0m\n",
            "\u001b[32mINFO\u001b[0m:     2409:4080:9d39:6427:93ea:6edc:d699:7d24:0 - \"\u001b[1mPOST /get-user-gallery?user_id=neeldevenshah@gmail.com HTTP/1.1\u001b[0m\" \u001b[32m200 OK\u001b[0m\n",
            "t=2024-09-06T20:19:44+0000 lvl=warn msg=\"Stopping forwarder\" name=http-8000-a09c9cef-c145-433c-8abe-258ea9b29c5d acceptErr=\"failed to accept connection: Listener closed\"\n",
            "t=2024-09-06T20:19:44+0000 lvl=warn msg=\"Error restarting forwarder\" name=http-8000-a09c9cef-c145-433c-8abe-258ea9b29c5d err=\"failed to start tunnel: session closed\"\n",
            "\u001b[32mINFO\u001b[0m:     Shutting down\n",
            "\u001b[32mINFO\u001b[0m:     Finished server process [\u001b[36m4664\u001b[0m]\n",
            "Task exception was never retrieved\n",
            "future: <Task finished name='Task-1' coro=<Server.serve() done, defined at /usr/local/lib/python3.10/dist-packages/uvicorn/server.py:67> exception=KeyboardInterrupt()>\n",
            "Traceback (most recent call last):\n",
            "  File \"/usr/local/lib/python3.10/dist-packages/uvicorn/main.py\", line 577, in run\n",
            "    server.run()\n",
            "  File \"/usr/local/lib/python3.10/dist-packages/uvicorn/server.py\", line 65, in run\n",
            "    return asyncio.run(self.serve(sockets=sockets))\n",
            "  File \"/usr/local/lib/python3.10/dist-packages/nest_asyncio.py\", line 30, in run\n",
            "    return loop.run_until_complete(task)\n",
            "  File \"/usr/local/lib/python3.10/dist-packages/nest_asyncio.py\", line 92, in run_until_complete\n",
            "    self._run_once()\n",
            "  File \"/usr/local/lib/python3.10/dist-packages/nest_asyncio.py\", line 133, in _run_once\n",
            "    handle._run()\n",
            "  File \"/usr/lib/python3.10/asyncio/events.py\", line 80, in _run\n",
            "    self._context.run(self._callback, *self._args)\n",
            "  File \"/usr/lib/python3.10/asyncio/tasks.py\", line 315, in __wakeup\n",
            "    self.__step()\n",
            "  File \"/usr/lib/python3.10/asyncio/tasks.py\", line 232, in __step\n",
            "    result = coro.send(None)\n",
            "  File \"/usr/local/lib/python3.10/dist-packages/uvicorn/server.py\", line 68, in serve\n",
            "    with self.capture_signals():\n",
            "  File \"/usr/lib/python3.10/contextlib.py\", line 142, in __exit__\n",
            "    next(self.gen)\n",
            "  File \"/usr/local/lib/python3.10/dist-packages/uvicorn/server.py\", line 328, in capture_signals\n",
            "    signal.raise_signal(captured_signal)\n",
            "KeyboardInterrupt\n",
            "Task was destroyed but it is pending!\n",
            "task: <Task pending name='Task-2' coro=<LifespanOn.main() running at /usr/local/lib/python3.10/dist-packages/uvicorn/lifespan/on.py:86> wait_for=<Future pending cb=[Task.__wakeup()]>>\n",
            "\u001b[31mERROR\u001b[0m:    Traceback (most recent call last):\n",
            "  File \"/usr/local/lib/python3.10/dist-packages/starlette/routing.py\", line 700, in lifespan\n",
            "    await receive()\n",
            "GeneratorExit\n",
            "\n"
          ]
        }
      ],
      "source": [
        "!python /content/Image-Generation-Diffusion-Proj/AI_API/main.py"
      ]
    },
    {
      "cell_type": "markdown",
      "metadata": {
        "id": "jx03ySy-6vhU"
      },
      "source": [
        "<h1>Make sure to use the new ngrok url for the flutter app for backend api calling</h1>"
      ]
    }
  ],
  "metadata": {
    "accelerator": "GPU",
    "colab": {
      "gpuType": "T4",
      "provenance": []
    },
    "kernelspec": {
      "display_name": "Python 3",
      "name": "python3"
    },
    "language_info": {
      "name": "python"
    }
  },
  "nbformat": 4,
  "nbformat_minor": 0
}
